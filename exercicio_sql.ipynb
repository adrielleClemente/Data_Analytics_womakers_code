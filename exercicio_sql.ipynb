{
 "cells": [
  {
   "cell_type": "code",
   "execution_count": 6,
   "id": "13da109c-2d53-4006-860a-4f15f95dfd8a",
   "metadata": {},
   "outputs": [],
   "source": [
    "import sqlite3\n",
    "import pandas as pd"
   ]
  },
  {
   "cell_type": "code",
   "execution_count": 19,
   "id": "d5056ca3-773b-4d80-8ea2-1b395873b5ec",
   "metadata": {},
   "outputs": [],
   "source": [
    "conexao = sqlite3.connect('banco_womakers')\n",
    "cursor = conexao.cursor()"
   ]
  },
  {
   "cell_type": "markdown",
   "id": "da54e1e5-8e6e-4b56-b573-b3c36f2ab167",
   "metadata": {},
   "source": [
    "# Exercícios Banco de Dados\n",
    "**Semana 07: Banco de Dados SQL**"
   ]
  },
  {
   "cell_type": "code",
   "execution_count": null,
   "id": "ef2252ba-f8c4-49e6-ab59-ec5132cb37e8",
   "metadata": {},
   "outputs": [],
   "source": [
    "# 1. Criação da tabela \"alunos\"\n",
    "\n",
    "query= '''\n",
    "CREATE TABLE alunos (\n",
    "    id INTEGER PRIMARY KEY,\n",
    "    nome TEXT,\n",
    "    idade INTEGER,\n",
    "    curso TEXT\n",
    ");'''\n",
    "\n",
    "cursor.execute(query)\n",
    "conexao.commit()\n"
   ]
  },
  {
   "cell_type": "code",
   "execution_count": 26,
   "id": "1227b6be-cfba-4e17-9b74-b7095d62f2ff",
   "metadata": {},
   "outputs": [],
   "source": [
    "# 2. Inserção de 5 registros na tabela \"alunos\"\n",
    "\n",
    "query2 = '''\n",
    "INSERT INTO alunos (id, nome, idade, curso) VALUES (5, 'Eduardo', 23, 'Letras');\n",
    "\n",
    "'''\n",
    "cursor.execute(query2)\n",
    "conexao.commit()"
   ]
  },
  {
   "cell_type": "code",
   "execution_count": 30,
   "id": "da172e08-a0f8-4042-b975-974a0189c687",
   "metadata": {},
   "outputs": [
    {
     "data": {
      "text/html": [
       "<div>\n",
       "<style scoped>\n",
       "    .dataframe tbody tr th:only-of-type {\n",
       "        vertical-align: middle;\n",
       "    }\n",
       "\n",
       "    .dataframe tbody tr th {\n",
       "        vertical-align: top;\n",
       "    }\n",
       "\n",
       "    .dataframe thead th {\n",
       "        text-align: right;\n",
       "    }\n",
       "</style>\n",
       "<table border=\"1\" class=\"dataframe\">\n",
       "  <thead>\n",
       "    <tr style=\"text-align: right;\">\n",
       "      <th></th>\n",
       "      <th>id</th>\n",
       "      <th>nome</th>\n",
       "      <th>idade</th>\n",
       "      <th>curso</th>\n",
       "    </tr>\n",
       "  </thead>\n",
       "  <tbody>\n",
       "    <tr>\n",
       "      <th>0</th>\n",
       "      <td>1</td>\n",
       "      <td>Ana</td>\n",
       "      <td>21</td>\n",
       "      <td>Engenharia</td>\n",
       "    </tr>\n",
       "    <tr>\n",
       "      <th>1</th>\n",
       "      <td>2</td>\n",
       "      <td>Bruno</td>\n",
       "      <td>19</td>\n",
       "      <td>Medicina</td>\n",
       "    </tr>\n",
       "    <tr>\n",
       "      <th>2</th>\n",
       "      <td>3</td>\n",
       "      <td>Carlos</td>\n",
       "      <td>22</td>\n",
       "      <td>Engenharia</td>\n",
       "    </tr>\n",
       "    <tr>\n",
       "      <th>3</th>\n",
       "      <td>4</td>\n",
       "      <td>Diana</td>\n",
       "      <td>20</td>\n",
       "      <td>Direito</td>\n",
       "    </tr>\n",
       "    <tr>\n",
       "      <th>4</th>\n",
       "      <td>5</td>\n",
       "      <td>Eduardo</td>\n",
       "      <td>23</td>\n",
       "      <td>Letras</td>\n",
       "    </tr>\n",
       "  </tbody>\n",
       "</table>\n",
       "</div>"
      ],
      "text/plain": [
       "   id     nome  idade       curso\n",
       "0   1      Ana     21  Engenharia\n",
       "1   2    Bruno     19    Medicina\n",
       "2   3   Carlos     22  Engenharia\n",
       "3   4    Diana     20     Direito\n",
       "4   5  Eduardo     23      Letras"
      ]
     },
     "execution_count": 30,
     "metadata": {},
     "output_type": "execute_result"
    }
   ],
   "source": [
    "# 3. Consultas Básicas\n",
    "# a) Selecionar todos os registros da tabela \"alunos\"\n",
    "\n",
    "query3 = '''\n",
    "SELECT * FROM alunos;'''\n",
    "pd.read_sql(query3,conexao)\n"
   ]
  },
  {
   "cell_type": "code",
   "execution_count": 31,
   "id": "ec41b9c3-83ce-4344-ba84-a7a09973396b",
   "metadata": {},
   "outputs": [
    {
     "data": {
      "text/html": [
       "<div>\n",
       "<style scoped>\n",
       "    .dataframe tbody tr th:only-of-type {\n",
       "        vertical-align: middle;\n",
       "    }\n",
       "\n",
       "    .dataframe tbody tr th {\n",
       "        vertical-align: top;\n",
       "    }\n",
       "\n",
       "    .dataframe thead th {\n",
       "        text-align: right;\n",
       "    }\n",
       "</style>\n",
       "<table border=\"1\" class=\"dataframe\">\n",
       "  <thead>\n",
       "    <tr style=\"text-align: right;\">\n",
       "      <th></th>\n",
       "      <th>nome</th>\n",
       "      <th>idade</th>\n",
       "    </tr>\n",
       "  </thead>\n",
       "  <tbody>\n",
       "    <tr>\n",
       "      <th>0</th>\n",
       "      <td>Ana</td>\n",
       "      <td>21</td>\n",
       "    </tr>\n",
       "    <tr>\n",
       "      <th>1</th>\n",
       "      <td>Carlos</td>\n",
       "      <td>22</td>\n",
       "    </tr>\n",
       "    <tr>\n",
       "      <th>2</th>\n",
       "      <td>Eduardo</td>\n",
       "      <td>23</td>\n",
       "    </tr>\n",
       "  </tbody>\n",
       "</table>\n",
       "</div>"
      ],
      "text/plain": [
       "      nome  idade\n",
       "0      Ana     21\n",
       "1   Carlos     22\n",
       "2  Eduardo     23"
      ]
     },
     "execution_count": 31,
     "metadata": {},
     "output_type": "execute_result"
    }
   ],
   "source": [
    "# b) Selecionar o nome e a idade dos alunos com mais de 20 anos\n",
    "\n",
    "query4 = '''\n",
    "SELECT nome, idade FROM alunos WHERE idade > 20;'''\n",
    "\n",
    "pd.read_sql(query4,conexao)"
   ]
  },
  {
   "cell_type": "code",
   "execution_count": 33,
   "id": "ab64e657-de0e-4c31-ad7e-7bc0df889724",
   "metadata": {},
   "outputs": [
    {
     "data": {
      "text/html": [
       "<div>\n",
       "<style scoped>\n",
       "    .dataframe tbody tr th:only-of-type {\n",
       "        vertical-align: middle;\n",
       "    }\n",
       "\n",
       "    .dataframe tbody tr th {\n",
       "        vertical-align: top;\n",
       "    }\n",
       "\n",
       "    .dataframe thead th {\n",
       "        text-align: right;\n",
       "    }\n",
       "</style>\n",
       "<table border=\"1\" class=\"dataframe\">\n",
       "  <thead>\n",
       "    <tr style=\"text-align: right;\">\n",
       "      <th></th>\n",
       "      <th>id</th>\n",
       "      <th>nome</th>\n",
       "      <th>idade</th>\n",
       "      <th>curso</th>\n",
       "    </tr>\n",
       "  </thead>\n",
       "  <tbody>\n",
       "    <tr>\n",
       "      <th>0</th>\n",
       "      <td>1</td>\n",
       "      <td>Ana</td>\n",
       "      <td>21</td>\n",
       "      <td>Engenharia</td>\n",
       "    </tr>\n",
       "    <tr>\n",
       "      <th>1</th>\n",
       "      <td>3</td>\n",
       "      <td>Carlos</td>\n",
       "      <td>22</td>\n",
       "      <td>Engenharia</td>\n",
       "    </tr>\n",
       "  </tbody>\n",
       "</table>\n",
       "</div>"
      ],
      "text/plain": [
       "   id    nome  idade       curso\n",
       "0   1     Ana     21  Engenharia\n",
       "1   3  Carlos     22  Engenharia"
      ]
     },
     "execution_count": 33,
     "metadata": {},
     "output_type": "execute_result"
    }
   ],
   "source": [
    "#c) Selecionar os alunos do curso de \"Engenharia\" em ordem alfabética\n",
    "query5 = '''\n",
    "SELECT * FROM alunos \n",
    "WHERE curso = 'Engenharia' \n",
    "ORDER BY nome;'''\n",
    "\n",
    "pd.read_sql(query5,conexao)\n"
   ]
  },
  {
   "cell_type": "code",
   "execution_count": 38,
   "id": "5298ae4d-a9ab-49a6-bb52-683d7a042ef3",
   "metadata": {},
   "outputs": [
    {
     "data": {
      "text/html": [
       "<div>\n",
       "<style scoped>\n",
       "    .dataframe tbody tr th:only-of-type {\n",
       "        vertical-align: middle;\n",
       "    }\n",
       "\n",
       "    .dataframe tbody tr th {\n",
       "        vertical-align: top;\n",
       "    }\n",
       "\n",
       "    .dataframe thead th {\n",
       "        text-align: right;\n",
       "    }\n",
       "</style>\n",
       "<table border=\"1\" class=\"dataframe\">\n",
       "  <thead>\n",
       "    <tr style=\"text-align: right;\">\n",
       "      <th></th>\n",
       "      <th>COUNT (*)</th>\n",
       "    </tr>\n",
       "  </thead>\n",
       "  <tbody>\n",
       "    <tr>\n",
       "      <th>0</th>\n",
       "      <td>5</td>\n",
       "    </tr>\n",
       "  </tbody>\n",
       "</table>\n",
       "</div>"
      ],
      "text/plain": [
       "   COUNT (*)\n",
       "0          5"
      ]
     },
     "execution_count": 38,
     "metadata": {},
     "output_type": "execute_result"
    }
   ],
   "source": [
    "# d) Contar o número total de alunos na tabela\n",
    "\n",
    "query6 = '''\n",
    "SELECT COUNT (*) FROM alunos;'''\n",
    "\n",
    "pd.read_sql(query6,conexao)"
   ]
  },
  {
   "cell_type": "code",
   "execution_count": 40,
   "id": "b4b00ef0-c4f8-48f2-9715-17132eee4587",
   "metadata": {},
   "outputs": [],
   "source": [
    "# 4. Atualização e Remoção\n",
    "# a) Atualizar a idade de um aluno específico na tabela\n",
    "\n",
    "query7 = '''\n",
    "UPDATE alunos SET idade = 24 WHERE id = 3;'''\n",
    "\n",
    "cursor.execute(query7)\n",
    "conexao.commit()\n",
    "\n",
    "# b) Remover um aluno pelo seu ID\n",
    "\n",
    "query8 = '''\n",
    "DELETE FROM alunos WHERE id = 2;\n",
    "'''\n",
    "\n",
    "cursor.execute(query8)\n",
    "conexao.commit()\n"
   ]
  },
  {
   "cell_type": "code",
   "execution_count": 41,
   "id": "d589a148-8ae4-4bd4-89cd-2f79e2ac91ac",
   "metadata": {},
   "outputs": [],
   "source": [
    "# 5. Criar a tabela \"clientes\" e inserir dados\n",
    "\n",
    "\n",
    "query9 = '''CREATE TABLE clientes (\n",
    "    id INTEGER PRIMARY KEY,\n",
    "    nome TEXT,\n",
    "    idade INTEGER,\n",
    "    saldo FLOAT\n",
    ");'''\n",
    "\n",
    "cursor.execute(query9)\n",
    "conexao.commit()\n"
   ]
  },
  {
   "cell_type": "code",
   "execution_count": null,
   "id": "8db7fa24-b41a-4ab4-84de-6610a47a929e",
   "metadata": {},
   "outputs": [],
   "source": [
    "query10 = '''\n",
    "INSERT INTO clientes (id, nome, idade, saldo) VALUES (3, 'Carol', 40, 2500.75);'''\n",
    "\n",
    "cursor.execute(query10)\n",
    "conexao.commit()"
   ]
  },
  {
   "cell_type": "code",
   "execution_count": 46,
   "id": "20b9f591-afe7-4e45-a78e-883b3e0f07bc",
   "metadata": {},
   "outputs": [
    {
     "data": {
      "text/html": [
       "<div>\n",
       "<style scoped>\n",
       "    .dataframe tbody tr th:only-of-type {\n",
       "        vertical-align: middle;\n",
       "    }\n",
       "\n",
       "    .dataframe tbody tr th {\n",
       "        vertical-align: top;\n",
       "    }\n",
       "\n",
       "    .dataframe thead th {\n",
       "        text-align: right;\n",
       "    }\n",
       "</style>\n",
       "<table border=\"1\" class=\"dataframe\">\n",
       "  <thead>\n",
       "    <tr style=\"text-align: right;\">\n",
       "      <th></th>\n",
       "      <th>nome</th>\n",
       "      <th>idade</th>\n",
       "    </tr>\n",
       "  </thead>\n",
       "  <tbody>\n",
       "    <tr>\n",
       "      <th>0</th>\n",
       "      <td>Alice</td>\n",
       "      <td>35</td>\n",
       "    </tr>\n",
       "    <tr>\n",
       "      <th>1</th>\n",
       "      <td>Carol</td>\n",
       "      <td>40</td>\n",
       "    </tr>\n",
       "  </tbody>\n",
       "</table>\n",
       "</div>"
      ],
      "text/plain": [
       "    nome  idade\n",
       "0  Alice     35\n",
       "1  Carol     40"
      ]
     },
     "execution_count": 46,
     "metadata": {},
     "output_type": "execute_result"
    }
   ],
   "source": [
    "# 6. Consultas e Funções Agregadas\n",
    "# a) Selecionar o nome e a idade dos clientes com idade superior a 30 anos\n",
    "\n",
    "query11 = '''\n",
    "SELECT nome, idade FROM clientes WHERE idade > 30;\n",
    "'''\n",
    "\n",
    "pd.read_sql(query11,conexao)"
   ]
  },
  {
   "cell_type": "code",
   "execution_count": 48,
   "id": "c7ee9cde-2ffe-4a5c-88d2-e7dedcc9a015",
   "metadata": {},
   "outputs": [],
   "source": [
    "# b) Calcular o saldo médio dos clientes\n",
    "\n",
    "query12 = '''\n",
    "SELECT AVG(saldo) AS saldo_medio FROM clientes;'''\n",
    "\n",
    "# c) Encontrar o cliente com o saldo máximo\n",
    "\n",
    "query13 = '''\n",
    "SELECT nome, saldo FROM clientes \n",
    "ORDER BY saldo DESC \n",
    "LIMIT 1;'''\n",
    "\n",
    "# d) Contar quantos clientes têm saldo acima de 1000\n",
    "\n",
    "query14 = '''\n",
    "SELECT COUNT(*) FROM clientes \n",
    "WHERE saldo > 1000;'''\n",
    "\n",
    "query12 = pd.read_sql(query12,conexao)\n",
    "query13 = pd.read_sql(query13,conexao)\n",
    "query14 = pd.read_sql(query14,conexao)"
   ]
  },
  {
   "cell_type": "code",
   "execution_count": 50,
   "id": "ff2dbdcd-2317-497f-a894-f6e616273c96",
   "metadata": {},
   "outputs": [
    {
     "data": {
      "text/html": [
       "<div>\n",
       "<style scoped>\n",
       "    .dataframe tbody tr th:only-of-type {\n",
       "        vertical-align: middle;\n",
       "    }\n",
       "\n",
       "    .dataframe tbody tr th {\n",
       "        vertical-align: top;\n",
       "    }\n",
       "\n",
       "    .dataframe thead th {\n",
       "        text-align: right;\n",
       "    }\n",
       "</style>\n",
       "<table border=\"1\" class=\"dataframe\">\n",
       "  <thead>\n",
       "    <tr style=\"text-align: right;\">\n",
       "      <th></th>\n",
       "      <th>saldo_medio</th>\n",
       "    </tr>\n",
       "  </thead>\n",
       "  <tbody>\n",
       "    <tr>\n",
       "      <th>0</th>\n",
       "      <td>1583.75</td>\n",
       "    </tr>\n",
       "  </tbody>\n",
       "</table>\n",
       "</div>"
      ],
      "text/plain": [
       "   saldo_medio\n",
       "0      1583.75"
      ]
     },
     "execution_count": 50,
     "metadata": {},
     "output_type": "execute_result"
    }
   ],
   "source": [
    "query12"
   ]
  },
  {
   "cell_type": "code",
   "execution_count": 51,
   "id": "2def03f3-3268-467f-b9ff-9389069f5b61",
   "metadata": {},
   "outputs": [
    {
     "data": {
      "text/html": [
       "<div>\n",
       "<style scoped>\n",
       "    .dataframe tbody tr th:only-of-type {\n",
       "        vertical-align: middle;\n",
       "    }\n",
       "\n",
       "    .dataframe tbody tr th {\n",
       "        vertical-align: top;\n",
       "    }\n",
       "\n",
       "    .dataframe thead th {\n",
       "        text-align: right;\n",
       "    }\n",
       "</style>\n",
       "<table border=\"1\" class=\"dataframe\">\n",
       "  <thead>\n",
       "    <tr style=\"text-align: right;\">\n",
       "      <th></th>\n",
       "      <th>nome</th>\n",
       "      <th>saldo</th>\n",
       "    </tr>\n",
       "  </thead>\n",
       "  <tbody>\n",
       "    <tr>\n",
       "      <th>0</th>\n",
       "      <td>Carol</td>\n",
       "      <td>2500.75</td>\n",
       "    </tr>\n",
       "  </tbody>\n",
       "</table>\n",
       "</div>"
      ],
      "text/plain": [
       "    nome    saldo\n",
       "0  Carol  2500.75"
      ]
     },
     "execution_count": 51,
     "metadata": {},
     "output_type": "execute_result"
    }
   ],
   "source": [
    "query13"
   ]
  },
  {
   "cell_type": "code",
   "execution_count": 52,
   "id": "362a798f-1b48-49bd-ba6a-25010aa81db4",
   "metadata": {},
   "outputs": [
    {
     "data": {
      "text/html": [
       "<div>\n",
       "<style scoped>\n",
       "    .dataframe tbody tr th:only-of-type {\n",
       "        vertical-align: middle;\n",
       "    }\n",
       "\n",
       "    .dataframe tbody tr th {\n",
       "        vertical-align: top;\n",
       "    }\n",
       "\n",
       "    .dataframe thead th {\n",
       "        text-align: right;\n",
       "    }\n",
       "</style>\n",
       "<table border=\"1\" class=\"dataframe\">\n",
       "  <thead>\n",
       "    <tr style=\"text-align: right;\">\n",
       "      <th></th>\n",
       "      <th>COUNT(*)</th>\n",
       "    </tr>\n",
       "  </thead>\n",
       "  <tbody>\n",
       "    <tr>\n",
       "      <th>0</th>\n",
       "      <td>2</td>\n",
       "    </tr>\n",
       "  </tbody>\n",
       "</table>\n",
       "</div>"
      ],
      "text/plain": [
       "   COUNT(*)\n",
       "0         2"
      ]
     },
     "execution_count": 52,
     "metadata": {},
     "output_type": "execute_result"
    }
   ],
   "source": [
    "query14"
   ]
  },
  {
   "cell_type": "code",
   "execution_count": 53,
   "id": "a9bb2e02-8a29-4666-b221-52c253a71fb3",
   "metadata": {},
   "outputs": [],
   "source": [
    "# 7. Atualização e Remoção com Condições\n",
    "# a) Atualizar o saldo de um cliente específico\n",
    "\n",
    "query15 = '''\n",
    "UPDATE clientes SET saldo = 3000.00\n",
    "WHERE id = 3;\n",
    "'''\n",
    "cursor.execute(query15)\n",
    "conexao.commit()\n",
    "\n",
    "# b) Remover um cliente pelo seu ID\n",
    "\n",
    "query16 = '''\n",
    "DELETE FROM clientes\n",
    "WHERE id = 2;\n",
    "'''\n",
    "\n",
    "cursor.execute(query16)\n",
    "conexao.commit()\n"
   ]
  },
  {
   "cell_type": "code",
   "execution_count": 54,
   "id": "e4bf20fd-9eb6-4016-9e14-fb534e772134",
   "metadata": {},
   "outputs": [],
   "source": [
    "# 8. Criação da tabela \"compras\" e junção de tabelas\n",
    "\n",
    "query17 = '''\n",
    "CREATE TABLE compras (\n",
    "    id INTEGER PRIMARY KEY,\n",
    "    cliente_id INTEGER,\n",
    "    produto TEXT,\n",
    "    valor REAL,\n",
    "    FOREIGN KEY (cliente_id) REFERENCES clientes(id)\n",
    ");'''\n",
    "cursor.execute(query17)\n",
    "conexao.commit()"
   ]
  },
  {
   "cell_type": "code",
   "execution_count": 59,
   "id": "ceb7b522-ecef-46cc-a157-0e8565d69ab1",
   "metadata": {},
   "outputs": [],
   "source": [
    "# Inserindo dados\n",
    "query18 = '''\n",
    "INSERT INTO compras (id, cliente_id, produto, valor) VALUES (3, 3, 'Tablet', 500.00);\n",
    "'''\n",
    "\n",
    "cursor.execute(query18)\n",
    "conexao.commit()"
   ]
  },
  {
   "cell_type": "code",
   "execution_count": 60,
   "id": "c342393f-5be5-480c-9ac6-1c511d52c161",
   "metadata": {},
   "outputs": [
    {
     "data": {
      "text/html": [
       "<div>\n",
       "<style scoped>\n",
       "    .dataframe tbody tr th:only-of-type {\n",
       "        vertical-align: middle;\n",
       "    }\n",
       "\n",
       "    .dataframe tbody tr th {\n",
       "        vertical-align: top;\n",
       "    }\n",
       "\n",
       "    .dataframe thead th {\n",
       "        text-align: right;\n",
       "    }\n",
       "</style>\n",
       "<table border=\"1\" class=\"dataframe\">\n",
       "  <thead>\n",
       "    <tr style=\"text-align: right;\">\n",
       "      <th></th>\n",
       "      <th>id</th>\n",
       "      <th>cliente_id</th>\n",
       "      <th>produto</th>\n",
       "      <th>valor</th>\n",
       "    </tr>\n",
       "  </thead>\n",
       "  <tbody>\n",
       "    <tr>\n",
       "      <th>0</th>\n",
       "      <td>1</td>\n",
       "      <td>1</td>\n",
       "      <td>Laptop</td>\n",
       "      <td>1200.0</td>\n",
       "    </tr>\n",
       "    <tr>\n",
       "      <th>1</th>\n",
       "      <td>2</td>\n",
       "      <td>1</td>\n",
       "      <td>Smartphone</td>\n",
       "      <td>800.0</td>\n",
       "    </tr>\n",
       "    <tr>\n",
       "      <th>2</th>\n",
       "      <td>3</td>\n",
       "      <td>3</td>\n",
       "      <td>Tablet</td>\n",
       "      <td>500.0</td>\n",
       "    </tr>\n",
       "  </tbody>\n",
       "</table>\n",
       "</div>"
      ],
      "text/plain": [
       "   id  cliente_id     produto   valor\n",
       "0   1           1      Laptop  1200.0\n",
       "1   2           1  Smartphone   800.0\n",
       "2   3           3      Tablet   500.0"
      ]
     },
     "execution_count": 60,
     "metadata": {},
     "output_type": "execute_result"
    }
   ],
   "source": [
    "query = '''\n",
    "SELECT * FROM compras \n",
    "'''\n",
    "\n",
    "pd.read_sql(query,conexao)"
   ]
  },
  {
   "cell_type": "code",
   "execution_count": 62,
   "id": "3ff339e2-c91f-4266-883d-bada84d10725",
   "metadata": {},
   "outputs": [],
   "source": [
    "conexao.close()"
   ]
  },
  {
   "cell_type": "code",
   "execution_count": 61,
   "id": "eccedabf-7e47-433f-a66f-ec78848ddfdf",
   "metadata": {},
   "outputs": [
    {
     "data": {
      "text/html": [
       "<div>\n",
       "<style scoped>\n",
       "    .dataframe tbody tr th:only-of-type {\n",
       "        vertical-align: middle;\n",
       "    }\n",
       "\n",
       "    .dataframe tbody tr th {\n",
       "        vertical-align: top;\n",
       "    }\n",
       "\n",
       "    .dataframe thead th {\n",
       "        text-align: right;\n",
       "    }\n",
       "</style>\n",
       "<table border=\"1\" class=\"dataframe\">\n",
       "  <thead>\n",
       "    <tr style=\"text-align: right;\">\n",
       "      <th></th>\n",
       "      <th>nome</th>\n",
       "      <th>produto</th>\n",
       "      <th>valor</th>\n",
       "    </tr>\n",
       "  </thead>\n",
       "  <tbody>\n",
       "    <tr>\n",
       "      <th>0</th>\n",
       "      <td>Alice</td>\n",
       "      <td>Laptop</td>\n",
       "      <td>1200.0</td>\n",
       "    </tr>\n",
       "    <tr>\n",
       "      <th>1</th>\n",
       "      <td>Alice</td>\n",
       "      <td>Smartphone</td>\n",
       "      <td>800.0</td>\n",
       "    </tr>\n",
       "    <tr>\n",
       "      <th>2</th>\n",
       "      <td>Carol</td>\n",
       "      <td>Tablet</td>\n",
       "      <td>500.0</td>\n",
       "    </tr>\n",
       "  </tbody>\n",
       "</table>\n",
       "</div>"
      ],
      "text/plain": [
       "    nome     produto   valor\n",
       "0  Alice      Laptop  1200.0\n",
       "1  Alice  Smartphone   800.0\n",
       "2  Carol      Tablet   500.0"
      ]
     },
     "execution_count": 61,
     "metadata": {},
     "output_type": "execute_result"
    }
   ],
   "source": [
    "# Consulta para exibir o nome do cliente, o produto e o valor de cada compra\n",
    "\n",
    "query18= '''\n",
    "SELECT clientes.nome, compras.produto, compras.valor\n",
    "FROM compras\n",
    "JOIN clientes ON compras.cliente_id = clientes.id; \n",
    "'''\n",
    "\n",
    "pd.read_sql(query18,conexao)"
   ]
  }
 ],
 "metadata": {
  "kernelspec": {
   "display_name": "Python 3 (ipykernel)",
   "language": "python",
   "name": "python3"
  },
  "language_info": {
   "codemirror_mode": {
    "name": "ipython",
    "version": 3
   },
   "file_extension": ".py",
   "mimetype": "text/x-python",
   "name": "python",
   "nbconvert_exporter": "python",
   "pygments_lexer": "ipython3",
   "version": "3.11.4"
  }
 },
 "nbformat": 4,
 "nbformat_minor": 5
}
